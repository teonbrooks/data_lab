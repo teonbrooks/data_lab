{
 "cells": [
  {
   "cell_type": "code",
   "execution_count": 1,
   "id": "fc359551-1d07-4aa6-8ca6-55831fde56e6",
   "metadata": {},
   "outputs": [],
   "source": [
    "# https://stackoverflow.com/questions/54395735/how-to-work-with-heic-image-file-types-in-python"
   ]
  },
  {
   "cell_type": "code",
   "execution_count": 2,
   "id": "378966d5-c67e-4b75-8a08-46d3bb9f0aa8",
   "metadata": {},
   "outputs": [],
   "source": [
    "path_zip = 'https://ff79bc0d96d873b038776a16158953ca3ad2ed1ff9d26c892451080-apidata.googleusercontent.com/download/storage/v1/b/half_baked_data/o/Road(ent)%20Kill.zip?jk=ARTXCFHf_Ggyhv9JFgf2Z4W-tid0eJrhn3Wh1GWiv1ce-UYP4aYB8HpMWeZo-tJI3apqPv_QhPn6ouK4xOTZjfrQp9L4tH_kyPCthTXn7Vg84qYQNbZ2WqTavWZ8OgUHuqpfcpyle1FSWRxP7D-qYUOt9Sjs0RLkvQMXaSqrgD269gqCQCvVBr-y6rmuB_j1Z5DcRLh46gW-aEJlZXb6319WH9BeS72rHr7tOQnBRg_bfiwzfSMWbWTxZnML1QcM0zk9_1i50yLgqVbVB7Zuy1BQI8Alo39ThmZ3L4qfQR0dpiI0J4N0Nz6w6n5qSkS0obdBPkhCrFPNDFEvtvdSt1W9vONM2q4OEzD1Ro7TCYjh8Eqfzp-y44y4gazBC2FqYpvFrEw8Yd7Ot95fFUQvoHCciwwC8G9R403hNyEtE_Cvv2qYEDKZu2TNVIfG7IKBI7LYPRP_eXo8mce18_CvR7th3prXWZA2r8O0DLkhSK2czXOswVdcf6KprHbMd9uXtqmWOkeDbVRtp-udW9jx3Sb5-hCGC1LDtg6h5WxQIVgLhaFcPifbTzXou46Xrai8s28HuNhD9ZXmcPLcRmCFJZMF9_tCkpEMDRoiVHz_GAzmclFJfX8ZUHgw3hEacIDB7FmZshe2MpxYSC_MQP1HNU3FE0N_vE1UWfKK5k-T6nC0BETJ53O9jmQsJQxZ3fPO-eG7KJvmLk8hgBmdv05OrXAcHqs4NfpaUSOv8PVXAU6cMuerx9Ruf7cBYWjHOK0rBl7IJho8vwoKchtLw6G9j4CjbADDM2hfVqtT1iy3u13sIsBba6wxc5x3rmT2EQYPLEnbU1BAuWO5gxjaZ2IuSLcYN4_PrZQ4H-3h63z19WAQpfn_RsoS6XPm7Zx1Wt4wW1-OpEyosbiMrTvjQ4EV3CDKVurYnv4MvO_S7czliFiWynmGNQkLnJY4HJ8Uy87O47Ka0jKVpAdjwE8TqHq2X5bjwwdJ8phjrWwB3ytrzqoT5Xb8BU-05GBj0MSmm2h0LPp0QWg2-nZZ2YNbtIasEqpnVumyrFrHD3PQ5lOWk0VMwj1tE6AXNvLB4JKbyL9mTv3s3CH1XiEaKulu9ggwXQV4i-TIukHDwt-THBRfWtE2LpaaLGYZ7CWhhw-osBVVR6BcHHnU9W8x2TOa6gFHk6dwYnwAKBhM3Ep9rRF02GIgu29X1UAx6JUeMup71COPeeTdkQEdXChYbmgy8aECkocnr9P97lR-j2J1IARbKLqmTxqiroVcZjRp3hrAf-k5wXhPeEue3mfLDM8y&isca=1'"
   ]
  },
  {
   "cell_type": "code",
   "execution_count": 1,
   "id": "93a590d7-961b-44da-8e05-7b08dceec365",
   "metadata": {},
   "outputs": [
    {
     "ename": "ModuleNotFoundError",
     "evalue": "No module named 'pyheif'",
     "output_type": "error",
     "traceback": [
      "\u001b[0;31m---------------------------------------------------------------------------\u001b[0m",
      "\u001b[0;31mModuleNotFoundError\u001b[0m                       Traceback (most recent call last)",
      "Cell \u001b[0;32mIn[1], line 1\u001b[0m\n\u001b[0;32m----> 1\u001b[0m \u001b[38;5;28;01mimport\u001b[39;00m \u001b[38;5;21;01mpyheif\u001b[39;00m\n",
      "\u001b[0;31mModuleNotFoundError\u001b[0m: No module named 'pyheif'"
     ]
    }
   ],
   "source": [
    "import pyheif"
   ]
  },
  {
   "cell_type": "code",
   "execution_count": 4,
   "id": "7e3ab954-e2c3-438e-bc2e-7cf3934f4ed5",
   "metadata": {},
   "outputs": [],
   "source": [
    "from PIL import Image\n",
    "from PIL.ExifTags import TAGS, GPSTAGS\n",
    "from pillow_heif import register_heif_opener\n",
    "\n",
    "register_heif_opener()"
   ]
  },
  {
   "cell_type": "code",
   "execution_count": 5,
   "id": "d82e4430-3caf-4635-ba09-ced4cd33379e",
   "metadata": {},
   "outputs": [],
   "source": [
    "import piplite\n",
    "await piplite.install('ipyleaflet')\n",
    "from pyodide.http import pyfetch"
   ]
  },
  {
   "cell_type": "code",
   "execution_count": 6,
   "id": "3298a3bc-a1e1-44c7-839e-d3f6f74f635d",
   "metadata": {},
   "outputs": [],
   "source": [
    "from ipyleaflet import Map, basemaps, basemap_to_tiles, Marker"
   ]
  },
  {
   "cell_type": "code",
   "execution_count": 7,
   "id": "87629f4c-e391-45ca-a47f-51e07bb75b7b",
   "metadata": {},
   "outputs": [],
   "source": [
    "from zipfile import ZipFile"
   ]
  },
  {
   "cell_type": "code",
   "execution_count": 8,
   "id": "1dc8a940-766f-4ac0-a00d-10ca1a4d5146",
   "metadata": {},
   "outputs": [
    {
     "ename": "<class 'OSError'>",
     "evalue": "Request for https://ff79bc0d96d873b038776a16158953ca3ad2ed1ff9d26c892451080-apidata.googleusercontent.com/download/storage/v1/b/half_baked_data/o/Road(ent)%20Kill.zip?jk=ARTXCFHf_Ggyhv9JFgf2Z4W-tid0eJrhn3Wh1GWiv1ce-UYP4aYB8HpMWeZo-tJI3apqPv_QhPn6ouK4xOTZjfrQp9L4tH_kyPCthTXn7Vg84qYQNbZ2WqTavWZ8OgUHuqpfcpyle1FSWRxP7D-qYUOt9Sjs0RLkvQMXaSqrgD269gqCQCvVBr-y6rmuB_j1Z5DcRLh46gW-aEJlZXb6319WH9BeS72rHr7tOQnBRg_bfiwzfSMWbWTxZnML1QcM0zk9_1i50yLgqVbVB7Zuy1BQI8Alo39ThmZ3L4qfQR0dpiI0J4N0Nz6w6n5qSkS0obdBPkhCrFPNDFEvtvdSt1W9vONM2q4OEzD1Ro7TCYjh8Eqfzp-y44y4gazBC2FqYpvFrEw8Yd7Ot95fFUQvoHCciwwC8G9R403hNyEtE_Cvv2qYEDKZu2TNVIfG7IKBI7LYPRP_eXo8mce18_CvR7th3prXWZA2r8O0DLkhSK2czXOswVdcf6KprHbMd9uXtqmWOkeDbVRtp-udW9jx3Sb5-hCGC1LDtg6h5WxQIVgLhaFcPifbTzXou46Xrai8s28HuNhD9ZXmcPLcRmCFJZMF9_tCkpEMDRoiVHz_GAzmclFJfX8ZUHgw3hEacIDB7FmZshe2MpxYSC_MQP1HNU3FE0N_vE1UWfKK5k-T6nC0BETJ53O9jmQsJQxZ3fPO-eG7KJvmLk8hgBmdv05OrXAcHqs4NfpaUSOv8PVXAU6cMuerx9Ruf7cBYWjHOK0rBl7IJho8vwoKchtLw6G9j4CjbADDM2hfVqtT1iy3u13sIsBba6wxc5x3rmT2EQYPLEnbU1BAuWO5gxjaZ2IuSLcYN4_PrZQ4H-3h63z19WAQpfn_RsoS6XPm7Zx1Wt4wW1-OpEyosbiMrTvjQ4EV3CDKVurYnv4MvO_S7czliFiWynmGNQkLnJY4HJ8Uy87O47Ka0jKVpAdjwE8TqHq2X5bjwwdJ8phjrWwB3ytrzqoT5Xb8BU-05GBj0MSmm2h0LPp0QWg2-nZZ2YNbtIasEqpnVumyrFrHD3PQ5lOWk0VMwj1tE6AXNvLB4JKbyL9mTv3s3CH1XiEaKulu9ggwXQV4i-TIukHDwt-THBRfWtE2LpaaLGYZ7CWhhw-osBVVR6BcHHnU9W8x2TOa6gFHk6dwYnwAKBhM3Ep9rRF02GIgu29X1UAx6JUeMup71COPeeTdkQEdXChYbmgy8aECkocnr9P97lR-j2J1IARbKLqmTxqiroVcZjRp3hrAf-k5wXhPeEue3mfLDM8y&isca=1 failed with status 401: ",
     "output_type": "error",
     "traceback": [
      "\u001b[0;31m---------------------------------------------------------------------------\u001b[0m",
      "\u001b[0;31mOSError\u001b[0m                                   Traceback (most recent call last)",
      "Cell \u001b[0;32mIn[8], line 2\u001b[0m\n\u001b[1;32m      1\u001b[0m images \u001b[38;5;241m=\u001b[39m \u001b[38;5;28;01mawait\u001b[39;00m pyfetch(path_zip)\n\u001b[0;32m----> 2\u001b[0m \u001b[38;5;28;01mawait\u001b[39;00m images\u001b[38;5;241m.\u001b[39munpack_archive()\n",
      "File \u001b[0;32m/lib/python311.zip/pyodide/http.py:227\u001b[0m, in \u001b[0;36mFetchResponse.unpack_archive\u001b[0;34m(self, extract_dir, format)\u001b[0m\n\u001b[1;32m    204\u001b[0m \u001b[38;5;28;01masync\u001b[39;00m \u001b[38;5;28;01mdef\u001b[39;00m \u001b[38;5;21munpack_archive\u001b[39m(\n\u001b[1;32m    205\u001b[0m     \u001b[38;5;28mself\u001b[39m, \u001b[38;5;241m*\u001b[39m, extract_dir: \u001b[38;5;28mstr\u001b[39m \u001b[38;5;241m|\u001b[39m \u001b[38;5;28;01mNone\u001b[39;00m \u001b[38;5;241m=\u001b[39m \u001b[38;5;28;01mNone\u001b[39;00m, \u001b[38;5;28mformat\u001b[39m: \u001b[38;5;28mstr\u001b[39m \u001b[38;5;241m|\u001b[39m \u001b[38;5;28;01mNone\u001b[39;00m \u001b[38;5;241m=\u001b[39m \u001b[38;5;28;01mNone\u001b[39;00m\n\u001b[1;32m    206\u001b[0m ) \u001b[38;5;241m-\u001b[39m\u001b[38;5;241m>\u001b[39m \u001b[38;5;28;01mNone\u001b[39;00m:\n\u001b[1;32m    207\u001b[0m \u001b[38;5;250m    \u001b[39m\u001b[38;5;124;03m\"\"\"Treat the data as an archive and unpack it into target directory.\u001b[39;00m\n\u001b[1;32m    208\u001b[0m \n\u001b[1;32m    209\u001b[0m \u001b[38;5;124;03m    Assumes that the file is an archive in a format that :py:mod:`shutil` has\u001b[39;00m\n\u001b[0;32m   (...)\u001b[0m\n\u001b[1;32m    225\u001b[0m \u001b[38;5;124;03m        is found, a :py:exc:`ValueError` is raised.\u001b[39;00m\n\u001b[1;32m    226\u001b[0m \u001b[38;5;124;03m    \"\"\"\u001b[39;00m\n\u001b[0;32m--> 227\u001b[0m     buf \u001b[38;5;241m=\u001b[39m \u001b[38;5;28;01mawait\u001b[39;00m \u001b[38;5;28mself\u001b[39m\u001b[38;5;241m.\u001b[39mbuffer()\n\u001b[1;32m    228\u001b[0m     filename \u001b[38;5;241m=\u001b[39m \u001b[38;5;28mself\u001b[39m\u001b[38;5;241m.\u001b[39m_url\u001b[38;5;241m.\u001b[39mrsplit(\u001b[38;5;124m\"\u001b[39m\u001b[38;5;124m/\u001b[39m\u001b[38;5;124m\"\u001b[39m, \u001b[38;5;241m-\u001b[39m\u001b[38;5;241m1\u001b[39m)[\u001b[38;5;241m-\u001b[39m\u001b[38;5;241m1\u001b[39m]\n\u001b[1;32m    229\u001b[0m     unpack_buffer(buf, filename\u001b[38;5;241m=\u001b[39mfilename, \u001b[38;5;28mformat\u001b[39m\u001b[38;5;241m=\u001b[39m\u001b[38;5;28mformat\u001b[39m, extract_dir\u001b[38;5;241m=\u001b[39mextract_dir)\n",
      "File \u001b[0;32m/lib/python311.zip/pyodide/http.py:146\u001b[0m, in \u001b[0;36mFetchResponse.buffer\u001b[0;34m(self)\u001b[0m\n\u001b[1;32m    141\u001b[0m \u001b[38;5;28;01masync\u001b[39;00m \u001b[38;5;28;01mdef\u001b[39;00m \u001b[38;5;21mbuffer\u001b[39m(\u001b[38;5;28mself\u001b[39m) \u001b[38;5;241m-\u001b[39m\u001b[38;5;241m>\u001b[39m JsBuffer:\n\u001b[1;32m    142\u001b[0m \u001b[38;5;250m    \u001b[39m\u001b[38;5;124;03m\"\"\"Return the response body as a Javascript :js:class:`ArrayBuffer`.\u001b[39;00m\n\u001b[1;32m    143\u001b[0m \n\u001b[1;32m    144\u001b[0m \u001b[38;5;124;03m    See :js:meth:`Response.arrayBuffer`.\u001b[39;00m\n\u001b[1;32m    145\u001b[0m \u001b[38;5;124;03m    \"\"\"\u001b[39;00m\n\u001b[0;32m--> 146\u001b[0m     \u001b[38;5;28;43mself\u001b[39;49m\u001b[38;5;241;43m.\u001b[39;49m\u001b[43m_raise_if_failed\u001b[49m\u001b[43m(\u001b[49m\u001b[43m)\u001b[49m\n\u001b[1;32m    147\u001b[0m     \u001b[38;5;28;01mreturn\u001b[39;00m \u001b[38;5;28;01mawait\u001b[39;00m \u001b[38;5;28mself\u001b[39m\u001b[38;5;241m.\u001b[39mjs_response\u001b[38;5;241m.\u001b[39marrayBuffer()\n",
      "File \u001b[0;32m/lib/python311.zip/pyodide/http.py:125\u001b[0m, in \u001b[0;36mFetchResponse._raise_if_failed\u001b[0;34m(self)\u001b[0m\n\u001b[1;32m    123\u001b[0m \u001b[38;5;28;01mdef\u001b[39;00m \u001b[38;5;21m_raise_if_failed\u001b[39m(\u001b[38;5;28mself\u001b[39m) \u001b[38;5;241m-\u001b[39m\u001b[38;5;241m>\u001b[39m \u001b[38;5;28;01mNone\u001b[39;00m:\n\u001b[1;32m    124\u001b[0m     \u001b[38;5;28;01mif\u001b[39;00m \u001b[38;5;28mself\u001b[39m\u001b[38;5;241m.\u001b[39mjs_response\u001b[38;5;241m.\u001b[39mstatus \u001b[38;5;241m>\u001b[39m\u001b[38;5;241m=\u001b[39m \u001b[38;5;241m400\u001b[39m:\n\u001b[0;32m--> 125\u001b[0m         \u001b[38;5;28;01mraise\u001b[39;00m \u001b[38;5;167;01mOSError\u001b[39;00m(\n\u001b[1;32m    126\u001b[0m             \u001b[38;5;124mf\u001b[39m\u001b[38;5;124m\"\u001b[39m\u001b[38;5;124mRequest for \u001b[39m\u001b[38;5;132;01m{\u001b[39;00m\u001b[38;5;28mself\u001b[39m\u001b[38;5;241m.\u001b[39m_url\u001b[38;5;132;01m}\u001b[39;00m\u001b[38;5;124m failed with status \u001b[39m\u001b[38;5;132;01m{\u001b[39;00m\u001b[38;5;28mself\u001b[39m\u001b[38;5;241m.\u001b[39mstatus\u001b[38;5;132;01m}\u001b[39;00m\u001b[38;5;124m: \u001b[39m\u001b[38;5;132;01m{\u001b[39;00m\u001b[38;5;28mself\u001b[39m\u001b[38;5;241m.\u001b[39mstatus_text\u001b[38;5;132;01m}\u001b[39;00m\u001b[38;5;124m\"\u001b[39m\n\u001b[1;32m    127\u001b[0m         )\n\u001b[1;32m    128\u001b[0m     \u001b[38;5;28;01mif\u001b[39;00m \u001b[38;5;28mself\u001b[39m\u001b[38;5;241m.\u001b[39mjs_response\u001b[38;5;241m.\u001b[39mbodyUsed:\n\u001b[1;32m    129\u001b[0m         \u001b[38;5;28;01mraise\u001b[39;00m \u001b[38;5;167;01mOSError\u001b[39;00m(\u001b[38;5;124m\"\u001b[39m\u001b[38;5;124mResponse body is already used\u001b[39m\u001b[38;5;124m\"\u001b[39m)\n",
      "\u001b[0;31mOSError\u001b[0m: Request for https://ff79bc0d96d873b038776a16158953ca3ad2ed1ff9d26c892451080-apidata.googleusercontent.com/download/storage/v1/b/half_baked_data/o/Road(ent)%20Kill.zip?jk=ARTXCFHf_Ggyhv9JFgf2Z4W-tid0eJrhn3Wh1GWiv1ce-UYP4aYB8HpMWeZo-tJI3apqPv_QhPn6ouK4xOTZjfrQp9L4tH_kyPCthTXn7Vg84qYQNbZ2WqTavWZ8OgUHuqpfcpyle1FSWRxP7D-qYUOt9Sjs0RLkvQMXaSqrgD269gqCQCvVBr-y6rmuB_j1Z5DcRLh46gW-aEJlZXb6319WH9BeS72rHr7tOQnBRg_bfiwzfSMWbWTxZnML1QcM0zk9_1i50yLgqVbVB7Zuy1BQI8Alo39ThmZ3L4qfQR0dpiI0J4N0Nz6w6n5qSkS0obdBPkhCrFPNDFEvtvdSt1W9vONM2q4OEzD1Ro7TCYjh8Eqfzp-y44y4gazBC2FqYpvFrEw8Yd7Ot95fFUQvoHCciwwC8G9R403hNyEtE_Cvv2qYEDKZu2TNVIfG7IKBI7LYPRP_eXo8mce18_CvR7th3prXWZA2r8O0DLkhSK2czXOswVdcf6KprHbMd9uXtqmWOkeDbVRtp-udW9jx3Sb5-hCGC1LDtg6h5WxQIVgLhaFcPifbTzXou46Xrai8s28HuNhD9ZXmcPLcRmCFJZMF9_tCkpEMDRoiVHz_GAzmclFJfX8ZUHgw3hEacIDB7FmZshe2MpxYSC_MQP1HNU3FE0N_vE1UWfKK5k-T6nC0BETJ53O9jmQsJQxZ3fPO-eG7KJvmLk8hgBmdv05OrXAcHqs4NfpaUSOv8PVXAU6cMuerx9Ruf7cBYWjHOK0rBl7IJho8vwoKchtLw6G9j4CjbADDM2hfVqtT1iy3u13sIsBba6wxc5x3rmT2EQYPLEnbU1BAuWO5gxjaZ2IuSLcYN4_PrZQ4H-3h63z19WAQpfn_RsoS6XPm7Zx1Wt4wW1-OpEyosbiMrTvjQ4EV3CDKVurYnv4MvO_S7czliFiWynmGNQkLnJY4HJ8Uy87O47Ka0jKVpAdjwE8TqHq2X5bjwwdJ8phjrWwB3ytrzqoT5Xb8BU-05GBj0MSmm2h0LPp0QWg2-nZZ2YNbtIasEqpnVumyrFrHD3PQ5lOWk0VMwj1tE6AXNvLB4JKbyL9mTv3s3CH1XiEaKulu9ggwXQV4i-TIukHDwt-THBRfWtE2LpaaLGYZ7CWhhw-osBVVR6BcHHnU9W8x2TOa6gFHk6dwYnwAKBhM3Ep9rRF02GIgu29X1UAx6JUeMup71COPeeTdkQEdXChYbmgy8aECkocnr9P97lR-j2J1IARbKLqmTxqiroVcZjRp3hrAf-k5wXhPeEue3mfLDM8y&isca=1 failed with status 401: "
     ]
    }
   ],
   "source": [
    "images = await pyfetch(path_zip)\n",
    "await images.unpack_archive()"
   ]
  },
  {
   "cell_type": "code",
   "execution_count": 9,
   "id": "5f3f9e32-b424-452e-bd41-83ad23402ea5",
   "metadata": {},
   "outputs": [
    {
     "data": {
      "text/plain": [
       "<pyodide.http.FetchResponse at 0x1ff3e08>"
      ]
     },
     "execution_count": 9,
     "metadata": {},
     "output_type": "execute_result"
    }
   ],
   "source": [
    "images"
   ]
  },
  {
   "cell_type": "code",
   "execution_count": 10,
   "id": "9e1d86c2-619b-4bcc-a3fb-9a8d1622c142",
   "metadata": {},
   "outputs": [
    {
     "name": "stdout",
     "output_type": "stream",
     "text": [
      "Object `pyodide.http.pyfetch` not found.\n"
     ]
    }
   ],
   "source": [
    "pyodide.http.pyfetch?"
   ]
  },
  {
   "cell_type": "code",
   "execution_count": 11,
   "id": "516988c2-14f6-490c-91bf-c9f66ad87c0a",
   "metadata": {},
   "outputs": [
    {
     "ename": "<class 'AttributeError'>",
     "evalue": "'FetchResponse' object has no attribute 'seek'",
     "output_type": "error",
     "traceback": [
      "\u001b[0;31m---------------------------------------------------------------------------\u001b[0m",
      "\u001b[0;31mAttributeError\u001b[0m                            Traceback (most recent call last)",
      "Cell \u001b[0;32mIn[11], line 1\u001b[0m\n\u001b[0;32m----> 1\u001b[0m \u001b[43mZipFile\u001b[49m\u001b[43m(\u001b[49m\u001b[43mimages\u001b[49m\u001b[43m)\u001b[49m\n",
      "File \u001b[0;32m/lib/python311.zip/zipfile.py:1299\u001b[0m, in \u001b[0;36mZipFile.__init__\u001b[0;34m(self, file, mode, compression, allowZip64, compresslevel, strict_timestamps, metadata_encoding)\u001b[0m\n\u001b[1;32m   1297\u001b[0m \u001b[38;5;28;01mtry\u001b[39;00m:\n\u001b[1;32m   1298\u001b[0m     \u001b[38;5;28;01mif\u001b[39;00m mode \u001b[38;5;241m==\u001b[39m \u001b[38;5;124m'\u001b[39m\u001b[38;5;124mr\u001b[39m\u001b[38;5;124m'\u001b[39m:\n\u001b[0;32m-> 1299\u001b[0m         \u001b[38;5;28;43mself\u001b[39;49m\u001b[38;5;241;43m.\u001b[39;49m\u001b[43m_RealGetContents\u001b[49m\u001b[43m(\u001b[49m\u001b[43m)\u001b[49m\n\u001b[1;32m   1300\u001b[0m     \u001b[38;5;28;01melif\u001b[39;00m mode \u001b[38;5;129;01min\u001b[39;00m (\u001b[38;5;124m'\u001b[39m\u001b[38;5;124mw\u001b[39m\u001b[38;5;124m'\u001b[39m, \u001b[38;5;124m'\u001b[39m\u001b[38;5;124mx\u001b[39m\u001b[38;5;124m'\u001b[39m):\n\u001b[1;32m   1301\u001b[0m         \u001b[38;5;66;03m# set the modified flag so central directory gets written\u001b[39;00m\n\u001b[1;32m   1302\u001b[0m         \u001b[38;5;66;03m# even if no files are added to the archive\u001b[39;00m\n\u001b[1;32m   1303\u001b[0m         \u001b[38;5;28mself\u001b[39m\u001b[38;5;241m.\u001b[39m_didModify \u001b[38;5;241m=\u001b[39m \u001b[38;5;28;01mTrue\u001b[39;00m\n",
      "File \u001b[0;32m/lib/python311.zip/zipfile.py:1362\u001b[0m, in \u001b[0;36mZipFile._RealGetContents\u001b[0;34m(self)\u001b[0m\n\u001b[1;32m   1360\u001b[0m fp \u001b[38;5;241m=\u001b[39m \u001b[38;5;28mself\u001b[39m\u001b[38;5;241m.\u001b[39mfp\n\u001b[1;32m   1361\u001b[0m \u001b[38;5;28;01mtry\u001b[39;00m:\n\u001b[0;32m-> 1362\u001b[0m     endrec \u001b[38;5;241m=\u001b[39m \u001b[43m_EndRecData\u001b[49m\u001b[43m(\u001b[49m\u001b[43mfp\u001b[49m\u001b[43m)\u001b[49m\n\u001b[1;32m   1363\u001b[0m \u001b[38;5;28;01mexcept\u001b[39;00m \u001b[38;5;167;01mOSError\u001b[39;00m:\n\u001b[1;32m   1364\u001b[0m     \u001b[38;5;28;01mraise\u001b[39;00m BadZipFile(\u001b[38;5;124m\"\u001b[39m\u001b[38;5;124mFile is not a zip file\u001b[39m\u001b[38;5;124m\"\u001b[39m)\n",
      "File \u001b[0;32m/lib/python311.zip/zipfile.py:290\u001b[0m, in \u001b[0;36m_EndRecData\u001b[0;34m(fpin)\u001b[0m\n\u001b[1;32m    284\u001b[0m \u001b[38;5;250m\u001b[39m\u001b[38;5;124;03m\"\"\"Return data from the \"End of Central Directory\" record, or None.\u001b[39;00m\n\u001b[1;32m    285\u001b[0m \n\u001b[1;32m    286\u001b[0m \u001b[38;5;124;03mThe data is a list of the nine items in the ZIP \"End of central dir\"\u001b[39;00m\n\u001b[1;32m    287\u001b[0m \u001b[38;5;124;03mrecord followed by a tenth item, the file seek offset of this record.\"\"\"\u001b[39;00m\n\u001b[1;32m    289\u001b[0m \u001b[38;5;66;03m# Determine file size\u001b[39;00m\n\u001b[0;32m--> 290\u001b[0m \u001b[43mfpin\u001b[49m\u001b[38;5;241;43m.\u001b[39;49m\u001b[43mseek\u001b[49m(\u001b[38;5;241m0\u001b[39m, \u001b[38;5;241m2\u001b[39m)\n\u001b[1;32m    291\u001b[0m filesize \u001b[38;5;241m=\u001b[39m fpin\u001b[38;5;241m.\u001b[39mtell()\n\u001b[1;32m    293\u001b[0m \u001b[38;5;66;03m# Check to see if this is ZIP file with no archive comment (the\u001b[39;00m\n\u001b[1;32m    294\u001b[0m \u001b[38;5;66;03m# \"end of central directory\" structure should be the last item in the\u001b[39;00m\n\u001b[1;32m    295\u001b[0m \u001b[38;5;66;03m# file if this is the case).\u001b[39;00m\n",
      "\u001b[0;31mAttributeError\u001b[0m: 'FetchResponse' object has no attribute 'seek'"
     ]
    }
   ],
   "source": [
    "ZipFile(images)"
   ]
  },
  {
   "cell_type": "code",
   "execution_count": 12,
   "id": "593c386f-c007-4196-baac-205ae44d3666",
   "metadata": {},
   "outputs": [],
   "source": [
    "img = Image.open('IMG_9398.heic')"
   ]
  },
  {
   "cell_type": "code",
   "execution_count": 13,
   "id": "ad0be7c0-1118-432b-bd35-7e1aa26a8584",
   "metadata": {},
   "outputs": [],
   "source": [
    "# zip_rats = 'https://drive.google.com/file/d/1GP5or0XTEA6nGfqI1Z9eTmFx4-KrEQrV/view?usp=sharing'\n",
    "zip_rats = 'https://drive.google.com/u/0/uc?id=1GP5or0XTEA6nGfqI1Z9eTmFx4-KrEQrV&export=download&confirm=t&uuid=deec585d-acb2-41e5-85ca-bff817c9e179&at=AKKF8vygkN4IHsQAjXfrx9zu50DP:1685726894001'"
   ]
  },
  {
   "cell_type": "code",
   "execution_count": 14,
   "id": "cb9d9ad1-71eb-4383-863f-5670933ba5e5",
   "metadata": {},
   "outputs": [],
   "source": [
    "# https://stackoverflow.com/questions/72522522/how-to-extract-gps-location-from-heic-files"
   ]
  },
  {
   "cell_type": "code",
   "execution_count": 15,
   "id": "61d28796-a97e-4394-a030-41f68d0359b9",
   "metadata": {},
   "outputs": [],
   "source": [
    "exif = img.getexif()"
   ]
  },
  {
   "cell_type": "code",
   "execution_count": 16,
   "id": "efab556c-82b7-495b-a534-9440755eeba5",
   "metadata": {},
   "outputs": [],
   "source": [
    "# the get_ifd here is getting the image file directory for GPS within the exif\n",
    "# 0x8825 is the hexademical representation of the GPS fid pointer\n",
    "ifd = exif.get_ifd(0x8825)"
   ]
  },
  {
   "cell_type": "code",
   "execution_count": 17,
   "id": "dffd66ae-9844-42eb-b73b-8cd4197f47a9",
   "metadata": {},
   "outputs": [],
   "source": [
    "# this is a more verbose option, which you have to provide the GPS labels ahead of time\n",
    "def get_geotagging(exif):\n",
    "    geo_tagging_info = {}\n",
    "    if not exif:\n",
    "        raise ValueError(\"No EXIF metadata found\")\n",
    "    else:\n",
    "        gps_keys = ['GPSVersionID', 'GPSLatitudeRef', 'GPSLatitude', 'GPSLongitudeRef', 'GPSLongitude',\n",
    "                    'GPSAltitudeRef', 'GPSAltitude', 'GPSTimeStamp', 'GPSSatellites', 'GPSStatus', 'GPSMeasureMode',\n",
    "                    'GPSDOP', 'GPSSpeedRef', 'GPSSpeed', 'GPSTrackRef', 'GPSTrack', 'GPSImgDirectionRef',\n",
    "                    'GPSImgDirection', 'GPSMapDatum', 'GPSDestLatitudeRef', 'GPSDestLatitude', 'GPSDestLongitudeRef',\n",
    "                    'GPSDestLongitude', 'GPSDestBearingRef', 'GPSDestBearing', 'GPSDestDistanceRef', 'GPSDestDistance',\n",
    "                    'GPSProcessingMethod', 'GPSAreaInformation', 'GPSDateStamp', 'GPSDifferential']\n",
    "\n",
    "        for k, v in exif.items():\n",
    "            try:\n",
    "                geo_tagging_info[gps_keys[k]] = str(v)\n",
    "            except IndexError:\n",
    "                pass\n",
    "        return geo_tagging_info"
   ]
  },
  {
   "cell_type": "code",
   "execution_count": 18,
   "id": "568aba1c-a4aa-4d72-9bca-047da58c9c6e",
   "metadata": {},
   "outputs": [
    {
     "data": {
      "text/plain": [
       "{'GPSLatitudeRef': 'N',\n",
       " 'GPSLatitude': '(40.0, 41.0, 48.91)',\n",
       " 'GPSLongitudeRef': 'W',\n",
       " 'GPSLongitude': '(73.0, 55.0, 6.09)',\n",
       " 'GPSAltitudeRef': \"b'\\\\x00'\",\n",
       " 'GPSAltitude': '10.550080475424043',\n",
       " 'GPSSpeedRef': 'K',\n",
       " 'GPSSpeed': '0.48419392121950455',\n",
       " 'GPSImgDirectionRef': 'T',\n",
       " 'GPSImgDirection': '323.4054870375031',\n",
       " 'GPSDestBearingRef': 'T',\n",
       " 'GPSDestBearing': '323.4054870375031',\n",
       " 'GPSDateStamp': '2021:12:16'}"
      ]
     },
     "execution_count": 18,
     "metadata": {},
     "output_type": "execute_result"
    }
   ],
   "source": [
    "get_geotagging(ifd)"
   ]
  },
  {
   "cell_type": "code",
   "execution_count": 19,
   "id": "04e34c41-77ae-40ed-83d5-731af4146790",
   "metadata": {},
   "outputs": [],
   "source": [
    "# this is a much more succinct version where the labels are surfaced using the GPSTAGS\n",
    "def get_geo(exif):\n",
    "    for key, value in TAGS.items():\n",
    "        if value == \"GPSInfo\":\n",
    "            break\n",
    "    gps_info = exif.get_ifd(key)\n",
    "    return {\n",
    "        GPSTAGS.get(key, key): value\n",
    "        for key, value in gps_info.items()\n",
    "    }"
   ]
  },
  {
   "cell_type": "code",
   "execution_count": 20,
   "id": "06577a14-36dc-491b-9816-608ccfc2f0a3",
   "metadata": {},
   "outputs": [],
   "source": [
    "gps = get_geo(exif)"
   ]
  },
  {
   "cell_type": "code",
   "execution_count": 21,
   "id": "9e8c4c4e-bb77-4857-854b-06c9a046d28e",
   "metadata": {},
   "outputs": [],
   "source": [
    "def get_gps_in_degrees(gps):\n",
    "    lat = gps['GPSLatitude']\n",
    "    lat_ref = gps['GPSLatitudeRef']\n",
    "    lat= float(lat[0]+(lat[1]/60)+(lat[2]/(3600*100)))\n",
    "    lat = -lat if lat_ref == 'S' else lat\n",
    "\n",
    "    long = gps['GPSLongitude']\n",
    "    long_ref = gps['GPSLongitudeRef']\n",
    "    long= float(long[0]+(long[1]/60)+(long[2]/(3600*100)))\n",
    "    long = -long if long_ref == 'W' else long\n",
    "\n",
    "    \n",
    "    return (lat,long)"
   ]
  },
  {
   "cell_type": "code",
   "execution_count": 22,
   "id": "2e15f81f-ae40-48dc-b919-13ff7355cf1c",
   "metadata": {},
   "outputs": [],
   "source": [
    "# m = Map(\n",
    "#     basemap=basemap_to_tiles(basemaps.OpenStreetMap.Mapnik),\n",
    "#     center=(0, 0),\n",
    "#     zoom=3\n",
    "#     )\n",
    "\n",
    "# m.add_layer(Marker(location=(get_gps_in_degrees(gps))))\n",
    "# m"
   ]
  },
  {
   "cell_type": "code",
   "execution_count": 23,
   "id": "46da941d-47c2-4a93-abf4-c2ec9e67c8f0",
   "metadata": {},
   "outputs": [],
   "source": [
    "# import zipfile\n",
    "# archive = zipfile.ZipFile('Road(ent) Kill.zip', 'r')"
   ]
  },
  {
   "cell_type": "code",
   "execution_count": 24,
   "id": "9a7c31b0-2808-47e0-86a9-0e9baa1fb895",
   "metadata": {},
   "outputs": [],
   "source": [
    "# archive.filelist[0]"
   ]
  },
  {
   "cell_type": "code",
   "execution_count": 25,
   "id": "8661a66b-f91b-42c5-ae01-e0878beeb3f5",
   "metadata": {},
   "outputs": [],
   "source": [
    "import micropip"
   ]
  },
  {
   "cell_type": "code",
   "execution_count": 26,
   "id": "ab7c0551-bef1-488d-a88a-6269416dbb20",
   "metadata": {},
   "outputs": [],
   "source": [
    "await micropip.install('leafmap')"
   ]
  },
  {
   "cell_type": "code",
   "execution_count": 27,
   "id": "eddd30af-d5f9-44a7-be23-d9bdf5f8c4fc",
   "metadata": {},
   "outputs": [],
   "source": [
    "await micropip.install(\"setuptools\")"
   ]
  },
  {
   "cell_type": "code",
   "execution_count": 28,
   "id": "90086fae-cfbb-4808-ad50-87976726f329",
   "metadata": {},
   "outputs": [],
   "source": [
    "import leafmap"
   ]
  },
  {
   "cell_type": "code",
   "execution_count": 29,
   "id": "a0f90b54-92a4-4392-ac74-08447e1894fe",
   "metadata": {},
   "outputs": [
    {
     "data": {
      "text/plain": [
       "<module 'leafmap' from '/lib/python3.11/site-packages/leafmap/__init__.py'>"
      ]
     },
     "execution_count": 29,
     "metadata": {},
     "output_type": "execute_result"
    }
   ],
   "source": [
    "leafmap"
   ]
  },
  {
   "cell_type": "code",
   "execution_count": 30,
   "id": "86cba204-6d96-40a8-aa04-0692a42bfcfc",
   "metadata": {},
   "outputs": [],
   "source": [
    "# Lat, Long for some cities\n",
    "nyc_gps = (40.7128, -74.0060)\n",
    "brooklyn_gps = (40.6782, -73.9442)\n",
    "bushwick_gps = (40.6958, -73.9171)\n",
    "paris_gps = (48.8566, 2.3522)"
   ]
  },
  {
   "cell_type": "code",
   "execution_count": 31,
   "id": "a24a9dc7-aa55-48c9-9e35-880262413f3d",
   "metadata": {},
   "outputs": [],
   "source": [
    "lat, long = get_gps_in_degrees(gps)"
   ]
  },
  {
   "cell_type": "code",
   "execution_count": 32,
   "id": "847a504d-c6ad-435c-8aca-b5a60bc9eb57",
   "metadata": {},
   "outputs": [
    {
     "data": {
      "application/vnd.jupyter.widget-view+json": {
       "model_id": "530f66d6fc294c3d96b0bbe30aed0ea9",
       "version_major": 2,
       "version_minor": 0
      },
      "text/plain": [
       "Map(center=[40.6958, -73.9171], controls=(ZoomControl(options=['position', 'zoom_in_text', 'zoom_in_title', 'z…"
      ]
     },
     "execution_count": 32,
     "metadata": {},
     "output_type": "execute_result"
    }
   ],
   "source": [
    "m = leafmap.Map(center=bushwick_gps, zoom=14)\n",
    "m.add_layer(Marker(location=(get_gps_in_degrees(gps))))\n",
    "m "
   ]
  },
  {
   "cell_type": "code",
   "execution_count": 33,
   "id": "8ed26511-5845-452a-9da4-76667ed88198",
   "metadata": {},
   "outputs": [],
   "source": [
    "import pyodide.http\n",
    "from io import FileIO"
   ]
  },
  {
   "cell_type": "code",
   "execution_count": 34,
   "id": "93d82ba7-b55b-4208-9cb6-d78c2be8b2bd",
   "metadata": {},
   "outputs": [],
   "source": [
    "zrats = pyodide.http.open_url(zip_rats)"
   ]
  },
  {
   "cell_type": "code",
   "execution_count": 35,
   "id": "0ece44ae-de75-4bdf-b4f4-71e57c2e45ef",
   "metadata": {},
   "outputs": [],
   "source": [
    "import zipfile"
   ]
  },
  {
   "cell_type": "code",
   "execution_count": 36,
   "id": "7d7a6998-06d7-4dd6-835a-9064de990883",
   "metadata": {},
   "outputs": [],
   "source": [
    "import requests"
   ]
  },
  {
   "cell_type": "code",
   "execution_count": 37,
   "id": "9faee8dd-00d1-4b17-b6a3-ed1ef45b0ea7",
   "metadata": {},
   "outputs": [],
   "source": [
    "# https://stackoverflow.com/questions/38511444/python-download-files-from-google-drive-using-url"
   ]
  },
  {
   "cell_type": "code",
   "execution_count": 38,
   "id": "78f152b3-fbc2-41fc-af1f-e18e27aff7a0",
   "metadata": {},
   "outputs": [],
   "source": [
    "await micropip.install('gdown')"
   ]
  },
  {
   "cell_type": "code",
   "execution_count": 39,
   "id": "316ad7fa-9046-449a-b2da-ed7480e558fa",
   "metadata": {},
   "outputs": [],
   "source": [
    "import gdown"
   ]
  },
  {
   "cell_type": "code",
   "execution_count": 40,
   "id": "4ad1b0f4-8bb9-44df-bb4c-d6aa2c828307",
   "metadata": {},
   "outputs": [
    {
     "ename": "<class 'ImportError'>",
     "evalue": "Can't connect to HTTPS URL because the SSL module is not available.",
     "output_type": "error",
     "traceback": [
      "\u001b[0;31m---------------------------------------------------------------------------\u001b[0m",
      "\u001b[0;31mImportError\u001b[0m                               Traceback (most recent call last)",
      "Cell \u001b[0;32mIn[40], line 2\u001b[0m\n\u001b[1;32m      1\u001b[0m output \u001b[38;5;241m=\u001b[39m \u001b[38;5;124m'\u001b[39m\u001b[38;5;124mzrats.zip\u001b[39m\u001b[38;5;124m'\u001b[39m\n\u001b[0;32m----> 2\u001b[0m \u001b[43mgdown\u001b[49m\u001b[38;5;241;43m.\u001b[39;49m\u001b[43mdownload\u001b[49m\u001b[43m(\u001b[49m\u001b[43mzip_rats\u001b[49m\u001b[43m,\u001b[49m\u001b[43m \u001b[49m\u001b[43moutput\u001b[49m\u001b[43m,\u001b[49m\u001b[43m \u001b[49m\u001b[43mquiet\u001b[49m\u001b[38;5;241;43m=\u001b[39;49m\u001b[38;5;28;43;01mFalse\u001b[39;49;00m\u001b[43m)\u001b[49m\n",
      "File \u001b[0;32m/lib/python3.11/site-packages/gdown/download.py:161\u001b[0m, in \u001b[0;36mdownload\u001b[0;34m(url, output, quiet, proxy, speed, use_cookies, verify, id, fuzzy, resume, format)\u001b[0m\n\u001b[1;32m    159\u001b[0m \u001b[38;5;28;01mwhile\u001b[39;00m \u001b[38;5;28;01mTrue\u001b[39;00m:\n\u001b[1;32m    160\u001b[0m     \u001b[38;5;28;01mtry\u001b[39;00m:\n\u001b[0;32m--> 161\u001b[0m         res \u001b[38;5;241m=\u001b[39m \u001b[43msess\u001b[49m\u001b[38;5;241;43m.\u001b[39;49m\u001b[43mget\u001b[49m\u001b[43m(\u001b[49m\u001b[43murl\u001b[49m\u001b[43m,\u001b[49m\u001b[43m \u001b[49m\u001b[43mstream\u001b[49m\u001b[38;5;241;43m=\u001b[39;49m\u001b[38;5;28;43;01mTrue\u001b[39;49;00m\u001b[43m,\u001b[49m\u001b[43m \u001b[49m\u001b[43mverify\u001b[49m\u001b[38;5;241;43m=\u001b[39;49m\u001b[43mverify\u001b[49m\u001b[43m)\u001b[49m\n\u001b[1;32m    162\u001b[0m     \u001b[38;5;28;01mexcept\u001b[39;00m requests\u001b[38;5;241m.\u001b[39mexceptions\u001b[38;5;241m.\u001b[39mProxyError \u001b[38;5;28;01mas\u001b[39;00m e:\n\u001b[1;32m    163\u001b[0m         \u001b[38;5;28mprint\u001b[39m(\n\u001b[1;32m    164\u001b[0m             \u001b[38;5;124m\"\u001b[39m\u001b[38;5;124mAn error has occurred using proxy:\u001b[39m\u001b[38;5;124m\"\u001b[39m,\n\u001b[1;32m    165\u001b[0m             sess\u001b[38;5;241m.\u001b[39mproxies,\n\u001b[1;32m    166\u001b[0m             file\u001b[38;5;241m=\u001b[39msys\u001b[38;5;241m.\u001b[39mstderr,\n\u001b[1;32m    167\u001b[0m         )\n",
      "File \u001b[0;32m/lib/python3.11/site-packages/requests/sessions.py:602\u001b[0m, in \u001b[0;36mSession.get\u001b[0;34m(self, url, **kwargs)\u001b[0m\n\u001b[1;32m    594\u001b[0m \u001b[38;5;250m\u001b[39m\u001b[38;5;124mr\u001b[39m\u001b[38;5;124;03m\"\"\"Sends a GET request. Returns :class:`Response` object.\u001b[39;00m\n\u001b[1;32m    595\u001b[0m \n\u001b[1;32m    596\u001b[0m \u001b[38;5;124;03m:param url: URL for the new :class:`Request` object.\u001b[39;00m\n\u001b[1;32m    597\u001b[0m \u001b[38;5;124;03m:param \\*\\*kwargs: Optional arguments that ``request`` takes.\u001b[39;00m\n\u001b[1;32m    598\u001b[0m \u001b[38;5;124;03m:rtype: requests.Response\u001b[39;00m\n\u001b[1;32m    599\u001b[0m \u001b[38;5;124;03m\"\"\"\u001b[39;00m\n\u001b[1;32m    601\u001b[0m kwargs\u001b[38;5;241m.\u001b[39msetdefault(\u001b[38;5;124m\"\u001b[39m\u001b[38;5;124mallow_redirects\u001b[39m\u001b[38;5;124m\"\u001b[39m, \u001b[38;5;28;01mTrue\u001b[39;00m)\n\u001b[0;32m--> 602\u001b[0m \u001b[38;5;28;01mreturn\u001b[39;00m \u001b[38;5;28;43mself\u001b[39;49m\u001b[38;5;241;43m.\u001b[39;49m\u001b[43mrequest\u001b[49m\u001b[43m(\u001b[49m\u001b[38;5;124;43m\"\u001b[39;49m\u001b[38;5;124;43mGET\u001b[39;49m\u001b[38;5;124;43m\"\u001b[39;49m\u001b[43m,\u001b[49m\u001b[43m \u001b[49m\u001b[43murl\u001b[49m\u001b[43m,\u001b[49m\u001b[43m \u001b[49m\u001b[38;5;241;43m*\u001b[39;49m\u001b[38;5;241;43m*\u001b[39;49m\u001b[43mkwargs\u001b[49m\u001b[43m)\u001b[49m\n",
      "File \u001b[0;32m/lib/python3.11/site-packages/requests/sessions.py:589\u001b[0m, in \u001b[0;36mSession.request\u001b[0;34m(self, method, url, params, data, headers, cookies, files, auth, timeout, allow_redirects, proxies, hooks, stream, verify, cert, json)\u001b[0m\n\u001b[1;32m    584\u001b[0m send_kwargs \u001b[38;5;241m=\u001b[39m {\n\u001b[1;32m    585\u001b[0m     \u001b[38;5;124m\"\u001b[39m\u001b[38;5;124mtimeout\u001b[39m\u001b[38;5;124m\"\u001b[39m: timeout,\n\u001b[1;32m    586\u001b[0m     \u001b[38;5;124m\"\u001b[39m\u001b[38;5;124mallow_redirects\u001b[39m\u001b[38;5;124m\"\u001b[39m: allow_redirects,\n\u001b[1;32m    587\u001b[0m }\n\u001b[1;32m    588\u001b[0m send_kwargs\u001b[38;5;241m.\u001b[39mupdate(settings)\n\u001b[0;32m--> 589\u001b[0m resp \u001b[38;5;241m=\u001b[39m \u001b[38;5;28;43mself\u001b[39;49m\u001b[38;5;241;43m.\u001b[39;49m\u001b[43msend\u001b[49m\u001b[43m(\u001b[49m\u001b[43mprep\u001b[49m\u001b[43m,\u001b[49m\u001b[43m \u001b[49m\u001b[38;5;241;43m*\u001b[39;49m\u001b[38;5;241;43m*\u001b[39;49m\u001b[43msend_kwargs\u001b[49m\u001b[43m)\u001b[49m\n\u001b[1;32m    591\u001b[0m \u001b[38;5;28;01mreturn\u001b[39;00m resp\n",
      "File \u001b[0;32m/lib/python3.11/site-packages/requests/sessions.py:703\u001b[0m, in \u001b[0;36mSession.send\u001b[0;34m(self, request, **kwargs)\u001b[0m\n\u001b[1;32m    700\u001b[0m start \u001b[38;5;241m=\u001b[39m preferred_clock()\n\u001b[1;32m    702\u001b[0m \u001b[38;5;66;03m# Send the request\u001b[39;00m\n\u001b[0;32m--> 703\u001b[0m r \u001b[38;5;241m=\u001b[39m \u001b[43madapter\u001b[49m\u001b[38;5;241;43m.\u001b[39;49m\u001b[43msend\u001b[49m\u001b[43m(\u001b[49m\u001b[43mrequest\u001b[49m\u001b[43m,\u001b[49m\u001b[43m \u001b[49m\u001b[38;5;241;43m*\u001b[39;49m\u001b[38;5;241;43m*\u001b[39;49m\u001b[43mkwargs\u001b[49m\u001b[43m)\u001b[49m\n\u001b[1;32m    705\u001b[0m \u001b[38;5;66;03m# Total elapsed time of the request (approximately)\u001b[39;00m\n\u001b[1;32m    706\u001b[0m elapsed \u001b[38;5;241m=\u001b[39m preferred_clock() \u001b[38;5;241m-\u001b[39m start\n",
      "File \u001b[0;32m/lib/python3.11/site-packages/requests/adapters.py:486\u001b[0m, in \u001b[0;36mHTTPAdapter.send\u001b[0;34m(self, request, stream, timeout, verify, cert, proxies)\u001b[0m\n\u001b[1;32m    483\u001b[0m     timeout \u001b[38;5;241m=\u001b[39m TimeoutSauce(connect\u001b[38;5;241m=\u001b[39mtimeout, read\u001b[38;5;241m=\u001b[39mtimeout)\n\u001b[1;32m    485\u001b[0m \u001b[38;5;28;01mtry\u001b[39;00m:\n\u001b[0;32m--> 486\u001b[0m     resp \u001b[38;5;241m=\u001b[39m \u001b[43mconn\u001b[49m\u001b[38;5;241;43m.\u001b[39;49m\u001b[43murlopen\u001b[49m\u001b[43m(\u001b[49m\n\u001b[1;32m    487\u001b[0m \u001b[43m        \u001b[49m\u001b[43mmethod\u001b[49m\u001b[38;5;241;43m=\u001b[39;49m\u001b[43mrequest\u001b[49m\u001b[38;5;241;43m.\u001b[39;49m\u001b[43mmethod\u001b[49m\u001b[43m,\u001b[49m\n\u001b[1;32m    488\u001b[0m \u001b[43m        \u001b[49m\u001b[43murl\u001b[49m\u001b[38;5;241;43m=\u001b[39;49m\u001b[43murl\u001b[49m\u001b[43m,\u001b[49m\n\u001b[1;32m    489\u001b[0m \u001b[43m        \u001b[49m\u001b[43mbody\u001b[49m\u001b[38;5;241;43m=\u001b[39;49m\u001b[43mrequest\u001b[49m\u001b[38;5;241;43m.\u001b[39;49m\u001b[43mbody\u001b[49m\u001b[43m,\u001b[49m\n\u001b[1;32m    490\u001b[0m \u001b[43m        \u001b[49m\u001b[43mheaders\u001b[49m\u001b[38;5;241;43m=\u001b[39;49m\u001b[43mrequest\u001b[49m\u001b[38;5;241;43m.\u001b[39;49m\u001b[43mheaders\u001b[49m\u001b[43m,\u001b[49m\n\u001b[1;32m    491\u001b[0m \u001b[43m        \u001b[49m\u001b[43mredirect\u001b[49m\u001b[38;5;241;43m=\u001b[39;49m\u001b[38;5;28;43;01mFalse\u001b[39;49;00m\u001b[43m,\u001b[49m\n\u001b[1;32m    492\u001b[0m \u001b[43m        \u001b[49m\u001b[43massert_same_host\u001b[49m\u001b[38;5;241;43m=\u001b[39;49m\u001b[38;5;28;43;01mFalse\u001b[39;49;00m\u001b[43m,\u001b[49m\n\u001b[1;32m    493\u001b[0m \u001b[43m        \u001b[49m\u001b[43mpreload_content\u001b[49m\u001b[38;5;241;43m=\u001b[39;49m\u001b[38;5;28;43;01mFalse\u001b[39;49;00m\u001b[43m,\u001b[49m\n\u001b[1;32m    494\u001b[0m \u001b[43m        \u001b[49m\u001b[43mdecode_content\u001b[49m\u001b[38;5;241;43m=\u001b[39;49m\u001b[38;5;28;43;01mFalse\u001b[39;49;00m\u001b[43m,\u001b[49m\n\u001b[1;32m    495\u001b[0m \u001b[43m        \u001b[49m\u001b[43mretries\u001b[49m\u001b[38;5;241;43m=\u001b[39;49m\u001b[38;5;28;43mself\u001b[39;49m\u001b[38;5;241;43m.\u001b[39;49m\u001b[43mmax_retries\u001b[49m\u001b[43m,\u001b[49m\n\u001b[1;32m    496\u001b[0m \u001b[43m        \u001b[49m\u001b[43mtimeout\u001b[49m\u001b[38;5;241;43m=\u001b[39;49m\u001b[43mtimeout\u001b[49m\u001b[43m,\u001b[49m\n\u001b[1;32m    497\u001b[0m \u001b[43m        \u001b[49m\u001b[43mchunked\u001b[49m\u001b[38;5;241;43m=\u001b[39;49m\u001b[43mchunked\u001b[49m\u001b[43m,\u001b[49m\n\u001b[1;32m    498\u001b[0m \u001b[43m    \u001b[49m\u001b[43m)\u001b[49m\n\u001b[1;32m    500\u001b[0m \u001b[38;5;28;01mexcept\u001b[39;00m (ProtocolError, \u001b[38;5;167;01mOSError\u001b[39;00m) \u001b[38;5;28;01mas\u001b[39;00m err:\n\u001b[1;32m    501\u001b[0m     \u001b[38;5;28;01mraise\u001b[39;00m \u001b[38;5;167;01mConnectionError\u001b[39;00m(err, request\u001b[38;5;241m=\u001b[39mrequest)\n",
      "File \u001b[0;32m/lib/python3.11/site-packages/urllib3/connectionpool.py:769\u001b[0m, in \u001b[0;36mHTTPConnectionPool.urlopen\u001b[0;34m(self, method, url, body, headers, retries, redirect, assert_same_host, timeout, pool_timeout, release_conn, chunked, body_pos, preload_content, decode_content, **response_kw)\u001b[0m\n\u001b[1;32m    766\u001b[0m \u001b[38;5;28;01mtry\u001b[39;00m:\n\u001b[1;32m    767\u001b[0m     \u001b[38;5;66;03m# Request a connection from the queue.\u001b[39;00m\n\u001b[1;32m    768\u001b[0m     timeout_obj \u001b[38;5;241m=\u001b[39m \u001b[38;5;28mself\u001b[39m\u001b[38;5;241m.\u001b[39m_get_timeout(timeout)\n\u001b[0;32m--> 769\u001b[0m     conn \u001b[38;5;241m=\u001b[39m \u001b[38;5;28;43mself\u001b[39;49m\u001b[38;5;241;43m.\u001b[39;49m\u001b[43m_get_conn\u001b[49m\u001b[43m(\u001b[49m\u001b[43mtimeout\u001b[49m\u001b[38;5;241;43m=\u001b[39;49m\u001b[43mpool_timeout\u001b[49m\u001b[43m)\u001b[49m\n\u001b[1;32m    771\u001b[0m     conn\u001b[38;5;241m.\u001b[39mtimeout \u001b[38;5;241m=\u001b[39m timeout_obj\u001b[38;5;241m.\u001b[39mconnect_timeout  \u001b[38;5;66;03m# type: ignore[assignment]\u001b[39;00m\n\u001b[1;32m    773\u001b[0m     \u001b[38;5;66;03m# Is this a closed/new connection that requires CONNECT tunnelling?\u001b[39;00m\n",
      "File \u001b[0;32m/lib/python3.11/site-packages/urllib3/connectionpool.py:295\u001b[0m, in \u001b[0;36mHTTPConnectionPool._get_conn\u001b[0;34m(self, timeout)\u001b[0m\n\u001b[1;32m    292\u001b[0m     log\u001b[38;5;241m.\u001b[39mdebug(\u001b[38;5;124m\"\u001b[39m\u001b[38;5;124mResetting dropped connection: \u001b[39m\u001b[38;5;132;01m%s\u001b[39;00m\u001b[38;5;124m\"\u001b[39m, \u001b[38;5;28mself\u001b[39m\u001b[38;5;241m.\u001b[39mhost)\n\u001b[1;32m    293\u001b[0m     conn\u001b[38;5;241m.\u001b[39mclose()\n\u001b[0;32m--> 295\u001b[0m \u001b[38;5;28;01mreturn\u001b[39;00m conn \u001b[38;5;129;01mor\u001b[39;00m \u001b[38;5;28;43mself\u001b[39;49m\u001b[38;5;241;43m.\u001b[39;49m\u001b[43m_new_conn\u001b[49m\u001b[43m(\u001b[49m\u001b[43m)\u001b[49m\n",
      "File \u001b[0;32m/lib/python3.11/site-packages/urllib3/connectionpool.py:1056\u001b[0m, in \u001b[0;36mHTTPSConnectionPool._new_conn\u001b[0;34m(self)\u001b[0m\n\u001b[1;32m   1048\u001b[0m log\u001b[38;5;241m.\u001b[39mdebug(\n\u001b[1;32m   1049\u001b[0m     \u001b[38;5;124m\"\u001b[39m\u001b[38;5;124mStarting new HTTPS connection (\u001b[39m\u001b[38;5;132;01m%d\u001b[39;00m\u001b[38;5;124m): \u001b[39m\u001b[38;5;132;01m%s\u001b[39;00m\u001b[38;5;124m:\u001b[39m\u001b[38;5;132;01m%s\u001b[39;00m\u001b[38;5;124m\"\u001b[39m,\n\u001b[1;32m   1050\u001b[0m     \u001b[38;5;28mself\u001b[39m\u001b[38;5;241m.\u001b[39mnum_connections,\n\u001b[1;32m   1051\u001b[0m     \u001b[38;5;28mself\u001b[39m\u001b[38;5;241m.\u001b[39mhost,\n\u001b[1;32m   1052\u001b[0m     \u001b[38;5;28mself\u001b[39m\u001b[38;5;241m.\u001b[39mport \u001b[38;5;129;01mor\u001b[39;00m \u001b[38;5;124m\"\u001b[39m\u001b[38;5;124m443\u001b[39m\u001b[38;5;124m\"\u001b[39m,\n\u001b[1;32m   1053\u001b[0m )\n\u001b[1;32m   1055\u001b[0m \u001b[38;5;28;01mif\u001b[39;00m \u001b[38;5;129;01mnot\u001b[39;00m \u001b[38;5;28mself\u001b[39m\u001b[38;5;241m.\u001b[39mConnectionCls \u001b[38;5;129;01mor\u001b[39;00m \u001b[38;5;28mself\u001b[39m\u001b[38;5;241m.\u001b[39mConnectionCls \u001b[38;5;129;01mis\u001b[39;00m DummyConnection:  \u001b[38;5;66;03m# type: ignore[comparison-overlap]\u001b[39;00m\n\u001b[0;32m-> 1056\u001b[0m     \u001b[38;5;28;01mraise\u001b[39;00m \u001b[38;5;167;01mImportError\u001b[39;00m(\n\u001b[1;32m   1057\u001b[0m         \u001b[38;5;124m\"\u001b[39m\u001b[38;5;124mCan\u001b[39m\u001b[38;5;124m'\u001b[39m\u001b[38;5;124mt connect to HTTPS URL because the SSL module is not available.\u001b[39m\u001b[38;5;124m\"\u001b[39m\n\u001b[1;32m   1058\u001b[0m     )\n\u001b[1;32m   1060\u001b[0m actual_host: \u001b[38;5;28mstr\u001b[39m \u001b[38;5;241m=\u001b[39m \u001b[38;5;28mself\u001b[39m\u001b[38;5;241m.\u001b[39mhost\n\u001b[1;32m   1061\u001b[0m actual_port \u001b[38;5;241m=\u001b[39m \u001b[38;5;28mself\u001b[39m\u001b[38;5;241m.\u001b[39mport\n",
      "\u001b[0;31mImportError\u001b[0m: Can't connect to HTTPS URL because the SSL module is not available."
     ]
    }
   ],
   "source": [
    "output = 'zrats.zip'\n",
    "gdown.download(zip_rats, output, quiet=False)"
   ]
  },
  {
   "cell_type": "code",
   "execution_count": null,
   "id": "a279c1ff-4ee4-47d0-b52d-05db93810a03",
   "metadata": {},
   "outputs": [],
   "source": []
  }
 ],
 "metadata": {
  "kernelspec": {
   "display_name": "Python 3 (ipykernel)",
   "language": "python",
   "name": "python3"
  },
  "language_info": {
   "codemirror_mode": {
    "name": "ipython",
    "version": 3
   },
   "file_extension": ".py",
   "mimetype": "text/x-python",
   "name": "python",
   "nbconvert_exporter": "python",
   "pygments_lexer": "ipython3",
   "version": "3.12.3"
  }
 },
 "nbformat": 4,
 "nbformat_minor": 5
}
