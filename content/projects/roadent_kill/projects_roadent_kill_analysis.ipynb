{
 "cells": [
  {
   "cell_type": "code",
   "execution_count": 1,
   "id": "fc359551-1d07-4aa6-8ca6-55831fde56e6",
   "metadata": {},
   "outputs": [],
   "source": [
    "# https://stackoverflow.com/questions/54395735/how-to-work-with-heic-image-file-types-in-python"
   ]
  },
  {
   "cell_type": "code",
   "execution_count": null,
   "id": "3b459df7-3927-499d-8004-d447e25d32c9",
   "metadata": {},
   "outputs": [],
   "source": [
    "# some really cool iPython magic (https://jupyterlite.readthedocs.io/en/latest/howto/pyodide/packages.html#installing-packages-at-runtime)"
   ]
  },
  {
   "cell_type": "code",
   "execution_count": 2,
   "id": "378966d5-c67e-4b75-8a08-46d3bb9f0aa8",
   "metadata": {},
   "outputs": [],
   "source": [
    "%pip install -q ipyleaflet"
   ]
  },
  {
   "cell_type": "code",
   "execution_count": 3,
   "id": "93a590d7-961b-44da-8e05-7b08dceec365",
   "metadata": {},
   "outputs": [],
   "source": [
    "import tomllib"
   ]
  },
  {
   "cell_type": "code",
   "execution_count": 4,
   "id": "7e3ab954-e2c3-438e-bc2e-7cf3934f4ed5",
   "metadata": {},
   "outputs": [],
   "source": [
    "from PIL import Image\n",
    "from PIL.ExifTags import TAGS, GPSTAGS\n",
    "from pillow_heif import register_heif_opener\n",
    "\n",
    "register_heif_opener()"
   ]
  },
  {
   "cell_type": "code",
   "execution_count": 6,
   "id": "3298a3bc-a1e1-44c7-839e-d3f6f74f635d",
   "metadata": {},
   "outputs": [],
   "source": [
    "from ipyleaflet import Map, Heatmap, basemaps, basemap_to_tiles, Marker"
   ]
  },
  {
   "cell_type": "code",
   "execution_count": 7,
   "id": "87629f4c-e391-45ca-a47f-51e07bb75b7b",
   "metadata": {},
   "outputs": [],
   "source": [
    "# from zipfile import ZipFile"
   ]
  },
  {
   "cell_type": "code",
   "execution_count": 8,
   "id": "593c386f-c007-4196-baac-205ae44d3666",
   "metadata": {},
   "outputs": [],
   "source": [
    "img = Image.open('IMG_9398.heic')"
   ]
  },
  {
   "cell_type": "code",
   "execution_count": 9,
   "id": "cb9d9ad1-71eb-4383-863f-5670933ba5e5",
   "metadata": {},
   "outputs": [],
   "source": [
    "# https://stackoverflow.com/questions/72522522/how-to-extract-gps-location-from-heic-files"
   ]
  },
  {
   "cell_type": "code",
   "execution_count": 10,
   "id": "61d28796-a97e-4394-a030-41f68d0359b9",
   "metadata": {},
   "outputs": [],
   "source": [
    "exif = img.getexif()"
   ]
  },
  {
   "cell_type": "code",
   "execution_count": 11,
   "id": "efab556c-82b7-495b-a534-9440755eeba5",
   "metadata": {},
   "outputs": [],
   "source": [
    "# the get_ifd here is getting the image file directory for GPS within the exif\n",
    "# 0x8825 is the hexademical representation of the GPS fid pointer\n",
    "ifd = exif.get_ifd(0x8825)"
   ]
  },
  {
   "cell_type": "code",
   "execution_count": 12,
   "id": "dffd66ae-9844-42eb-b73b-8cd4197f47a9",
   "metadata": {},
   "outputs": [],
   "source": [
    "# this is a more verbose option, which you have to provide the GPS labels ahead of time\n",
    "def get_geotagging(exif):\n",
    "    geo_tagging_info = {}\n",
    "    if not exif:\n",
    "        raise ValueError(\"No EXIF metadata found\")\n",
    "    else:\n",
    "        gps_keys = ['GPSVersionID', 'GPSLatitudeRef', 'GPSLatitude', 'GPSLongitudeRef', 'GPSLongitude',\n",
    "                    'GPSAltitudeRef', 'GPSAltitude', 'GPSTimeStamp', 'GPSSatellites', 'GPSStatus', 'GPSMeasureMode',\n",
    "                    'GPSDOP', 'GPSSpeedRef', 'GPSSpeed', 'GPSTrackRef', 'GPSTrack', 'GPSImgDirectionRef',\n",
    "                    'GPSImgDirection', 'GPSMapDatum', 'GPSDestLatitudeRef', 'GPSDestLatitude', 'GPSDestLongitudeRef',\n",
    "                    'GPSDestLongitude', 'GPSDestBearingRef', 'GPSDestBearing', 'GPSDestDistanceRef', 'GPSDestDistance',\n",
    "                    'GPSProcessingMethod', 'GPSAreaInformation', 'GPSDateStamp', 'GPSDifferential']\n",
    "\n",
    "        for k, v in exif.items():\n",
    "            try:\n",
    "                geo_tagging_info[gps_keys[k]] = str(v)\n",
    "            except IndexError:\n",
    "                pass\n",
    "        return geo_tagging_info"
   ]
  },
  {
   "cell_type": "code",
   "execution_count": 13,
   "id": "568aba1c-a4aa-4d72-9bca-047da58c9c6e",
   "metadata": {},
   "outputs": [
    {
     "data": {
      "text/plain": [
       "{'GPSLatitudeRef': 'N',\n",
       " 'GPSLatitude': '(40.0, 41.0, 48.91)',\n",
       " 'GPSLongitudeRef': 'W',\n",
       " 'GPSLongitude': '(73.0, 55.0, 6.09)',\n",
       " 'GPSAltitudeRef': \"b'\\\\x00'\",\n",
       " 'GPSAltitude': '10.550080475424043',\n",
       " 'GPSSpeedRef': 'K',\n",
       " 'GPSSpeed': '0.48419392121950455',\n",
       " 'GPSImgDirectionRef': 'T',\n",
       " 'GPSImgDirection': '323.4054870375031',\n",
       " 'GPSDestBearingRef': 'T',\n",
       " 'GPSDestBearing': '323.4054870375031',\n",
       " 'GPSDateStamp': '2021:12:16'}"
      ]
     },
     "execution_count": 13,
     "metadata": {},
     "output_type": "execute_result"
    }
   ],
   "source": [
    "get_geotagging(ifd)"
   ]
  },
  {
   "cell_type": "code",
   "execution_count": 14,
   "id": "04e34c41-77ae-40ed-83d5-731af4146790",
   "metadata": {},
   "outputs": [],
   "source": [
    "# this is a much more succinct version where the labels are surfaced using the GPSTAGS\n",
    "def get_geo(exif):\n",
    "    for key, value in TAGS.items():\n",
    "        if value == \"GPSInfo\":\n",
    "            break\n",
    "    gps_info = exif.get_ifd(key)\n",
    "    return {\n",
    "        GPSTAGS.get(key, key): value\n",
    "        for key, value in gps_info.items()\n",
    "    }"
   ]
  },
  {
   "cell_type": "code",
   "execution_count": 15,
   "id": "06577a14-36dc-491b-9816-608ccfc2f0a3",
   "metadata": {},
   "outputs": [],
   "source": [
    "gps = get_geo(exif)"
   ]
  },
  {
   "cell_type": "code",
   "execution_count": 16,
   "id": "59bf56b0-bf4c-4345-8e0d-738a1fd52706",
   "metadata": {},
   "outputs": [],
   "source": [
    "# https://sylvaindurand.org/gps-data-from-photos-with-python/"
   ]
  },
  {
   "cell_type": "code",
   "execution_count": 17,
   "id": "9e8c4c4e-bb77-4857-854b-06c9a046d28e",
   "metadata": {},
   "outputs": [],
   "source": [
    "def get_gps_in_degrees(gps):\n",
    "    # reading from toml, currently written as array of str\n",
    "    # coord stored in deg, min, second\n",
    "    lat = list(map(float, gps['GPSLatitude']))\n",
    "    lat_ref = gps['GPSLatitudeRef']\n",
    "    lat = float(lat[0]+(lat[1]/60)+(lat[2]/3600))\n",
    "    lat = -lat if lat_ref == 'S' else lat\n",
    "\n",
    "    long = list(map(float, gps['GPSLongitude']))\n",
    "    long_ref = gps['GPSLongitudeRef']\n",
    "    long = float(long[0]+(long[1]/60)+(long[2]/3600))\n",
    "    long = -long if long_ref == 'W' else long\n",
    "\n",
    "    \n",
    "    return (lat,long)"
   ]
  },
  {
   "cell_type": "code",
   "execution_count": 18,
   "id": "b1465223-8004-4b07-ad1e-b492fefb592e",
   "metadata": {},
   "outputs": [],
   "source": [
    "# Lat, Long for some cities\n",
    "nyc_gps = (40.7128, -74.0060)\n",
    "brooklyn_gps = (40.6782, -73.9442)\n",
    "bushwick_gps = (40.6958, -73.9171)\n",
    "paris_gps = (48.8566, 2.3522)"
   ]
  },
  {
   "cell_type": "markdown",
   "id": "c46c8985-6044-4b8f-8a49-7c5d53379016",
   "metadata": {},
   "source": [
    "## Photo Locations"
   ]
  },
  {
   "cell_type": "code",
   "execution_count": 19,
   "id": "2e15f81f-ae40-48dc-b919-13ff7355cf1c",
   "metadata": {},
   "outputs": [
    {
     "data": {
      "application/vnd.jupyter.widget-view+json": {
       "model_id": "98b81606f75746b0a2bd37517564a356",
       "version_major": 2,
       "version_minor": 0
      },
      "text/plain": [
       "Map(center=[40.6958, -73.9171], controls=(ZoomControl(options=['position', 'zoom_in_text', 'zoom_in_title', 'z…"
      ]
     },
     "execution_count": 19,
     "metadata": {},
     "output_type": "execute_result"
    }
   ],
   "source": [
    "m = Map(\n",
    "    basemap=basemap_to_tiles(basemaps.OpenStreetMap.Mapnik),\n",
    "    center=bushwick_gps,\n",
    "    zoom=13\n",
    "    )\n",
    "\n",
    "m.add_layer(Marker(location=(get_gps_in_degrees(gps))))\n",
    "m"
   ]
  },
  {
   "cell_type": "code",
   "execution_count": 20,
   "id": "36a9f53c-dbef-4e72-94e1-cd7096042682",
   "metadata": {},
   "outputs": [],
   "source": [
    "coords = tomllib.load(open('roadent_kill_gps_coords.toml', 'rb'))"
   ]
  },
  {
   "cell_type": "code",
   "execution_count": 21,
   "id": "27a66bc9-4547-40a8-a01f-c22b408ebab8",
   "metadata": {
    "scrolled": true
   },
   "outputs": [],
   "source": [
    "coord = list(coords.items())[0][1]['GPSLatitude']"
   ]
  },
  {
   "cell_type": "code",
   "execution_count": 22,
   "id": "c7537ed6-88f3-4078-8a71-be9e0a8d8e26",
   "metadata": {},
   "outputs": [],
   "source": [
    "for img_title, coord in coords.items():\n",
    "    lat_long = get_gps_in_degrees(coord)\n",
    "    m.add_layer(Marker(location=(lat_long), title=f\"{img_title}: {lat_long}\"))"
   ]
  },
  {
   "cell_type": "markdown",
   "id": "7a4df518-3f67-4ae7-ac9b-c54cfe292881",
   "metadata": {},
   "source": [
    "## Heatmap"
   ]
  },
  {
   "cell_type": "code",
   "execution_count": 23,
   "id": "0b4f0560-9737-410c-adf0-5daeaefa17f9",
   "metadata": {},
   "outputs": [],
   "source": [
    "h = Map(\n",
    "    basemap=basemap_to_tiles(basemaps.OpenStreetMap.Mapnik),\n",
    "    center=bushwick_gps,\n",
    "    zoom=13\n",
    "    )\n",
    "\n",
    "h.add_layer(Marker(location=(get_gps_in_degrees(gps))))"
   ]
  },
  {
   "cell_type": "code",
   "execution_count": 24,
   "id": "d5ed624f-9765-4915-92df-7f508ea548f3",
   "metadata": {},
   "outputs": [
    {
     "data": {
      "application/vnd.jupyter.widget-view+json": {
       "model_id": "a07911cf109d44368edbe79589962f8d",
       "version_major": 2,
       "version_minor": 0
      },
      "text/plain": [
       "Map(center=[40.6958, -73.9171], controls=(ZoomControl(options=['position', 'zoom_in_text', 'zoom_in_title', 'z…"
      ]
     },
     "execution_count": 24,
     "metadata": {},
     "output_type": "execute_result"
    }
   ],
   "source": [
    "heatmap_coords = list()\n",
    "\n",
    "for img_title, coord in coords.items():\n",
    "     heatmap_coords.append(get_gps_in_degrees(coord))\n",
    "heatmap = Heatmap(locations=heatmap_coords)\n",
    "h.add(heatmap)"
   ]
  },
  {
   "cell_type": "code",
   "execution_count": null,
   "id": "a3833fad-5f37-442f-b43f-8c00bccabe83",
   "metadata": {},
   "outputs": [],
   "source": []
  }
 ],
 "metadata": {
  "kernelspec": {
   "display_name": "Python 3 (ipykernel)",
   "language": "python",
   "name": "python3"
  },
  "language_info": {
   "codemirror_mode": {
    "name": "ipython",
    "version": 3
   },
   "file_extension": ".py",
   "mimetype": "text/x-python",
   "name": "python",
   "nbconvert_exporter": "python",
   "pygments_lexer": "ipython3",
   "version": "3.12.3"
  }
 },
 "nbformat": 4,
 "nbformat_minor": 5
}
