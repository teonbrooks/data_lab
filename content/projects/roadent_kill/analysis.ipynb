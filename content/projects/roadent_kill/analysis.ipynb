{
  "metadata": {
    "kernelspec": {
      "name": "python",
      "display_name": "Python (Pyodide)",
      "language": "python"
    },
    "language_info": {
      "codemirror_mode": {
        "name": "python",
        "version": 3
      },
      "file_extension": ".py",
      "mimetype": "text/x-python",
      "name": "python",
      "nbconvert_exporter": "python",
      "pygments_lexer": "ipython3",
      "version": "3.8"
    }
  },
  "nbformat_minor": 5,
  "nbformat": 4,
  "cells": [
    {
      "cell_type": "code",
      "source": "# https://stackoverflow.com/questions/54395735/how-to-work-with-heic-image-file-types-in-python",
      "metadata": {},
      "execution_count": null,
      "outputs": [],
      "id": "fc359551-1d07-4aa6-8ca6-55831fde56e6"
    },
    {
      "cell_type": "code",
      "source": "import pyheif",
      "metadata": {
        "trusted": true
      },
      "execution_count": null,
      "outputs": [],
      "id": "93a590d7-961b-44da-8e05-7b08dceec365"
    },
    {
      "cell_type": "code",
      "source": "from PIL import Image",
      "metadata": {
        "trusted": true
      },
      "execution_count": null,
      "outputs": [],
      "id": "391351f9-03c8-49b5-b19a-361f165ba2b2"
    },
    {
      "cell_type": "code",
      "source": "",
      "metadata": {},
      "execution_count": null,
      "outputs": [],
      "id": "a8cb7ab1-8430-4c13-87e9-c5c63d3fce43"
    },
    {
      "cell_type": "code",
      "source": "",
      "metadata": {},
      "execution_count": null,
      "outputs": [],
      "id": "593c386f-c007-4196-baac-205ae44d3666"
    },
    {
      "cell_type": "code",
      "source": "# https://sylvaindurand.org/gps-data-from-photos-with-python/",
      "metadata": {},
      "execution_count": null,
      "outputs": [],
      "id": "dffd66ae-9844-42eb-b73b-8cd4197f47a9"
    },
    {
      "cell_type": "code",
      "source": "from PIL import Image\nfrom PIL.ExifTags import TAGS, GPSTAGS",
      "metadata": {},
      "execution_count": null,
      "outputs": [],
      "id": "fbf25be4-cebe-4b47-aac9-0d5b3e9f6604"
    },
    {
      "cell_type": "code",
      "source": "def get_exif(filename):\n    exif = Image.open(filename)._getexif()\n\n    if exif is not None:\n        for key, value in exif.items():\n            name = TAGS.get(key, key)\n            exif[name] = exif.pop(key)\n\n        if 'GPSInfo' in exif:\n            for key in exif['GPSInfo'].keys():\n                name = GPSTAGS.get(key,key)\n                exif['GPSInfo'][name] = exif['GPSInfo'].pop(key)\n\n    return exif",
      "metadata": {},
      "execution_count": null,
      "outputs": [],
      "id": "568aba1c-a4aa-4d72-9bca-047da58c9c6e"
    },
    {
      "cell_type": "code",
      "source": "",
      "metadata": {},
      "execution_count": null,
      "outputs": [],
      "id": "04e34c41-77ae-40ed-83d5-731af4146790"
    },
    {
      "cell_type": "code",
      "source": "import zipfile\narchive = zipfile.ZipFile('Road(ent) Kill.zip', 'r')",
      "metadata": {},
      "execution_count": null,
      "outputs": [],
      "id": "46da941d-47c2-4a93-abf4-c2ec9e67c8f0"
    },
    {
      "cell_type": "code",
      "source": "archive.filelist[0]",
      "metadata": {},
      "execution_count": null,
      "outputs": [],
      "id": "9a7c31b0-2808-47e0-86a9-0e9baa1fb895"
    },
    {
      "cell_type": "code",
      "source": "exif = get_exif()",
      "metadata": {},
      "execution_count": null,
      "outputs": [],
      "id": "c3dc4251-900a-403f-814d-8be3874a8ae2"
    },
    {
      "cell_type": "code",
      "source": "",
      "metadata": {},
      "execution_count": null,
      "outputs": [],
      "id": "8661a66b-f91b-42c5-ae01-e0878beeb3f5"
    }
  ]
}